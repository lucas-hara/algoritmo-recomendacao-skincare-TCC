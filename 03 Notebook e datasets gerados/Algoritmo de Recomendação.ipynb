{
 "cells": [
  {
   "cell_type": "markdown",
   "metadata": {},
   "source": [
    "# **TCC - Recomendação de Cosméticos para Tratamento de Pele**\n",
    "## Desenvolvido por: Lucas Rafael Hara Motta\n",
    "## Especialização em Inteligência Artificial e Machine Aprendizado de Máquina\n",
    "## PUC - MG"
   ]
  },
  {
   "cell_type": "markdown",
   "metadata": {},
   "source": [
    "Este algoritmo foi desenvolvido como parte do Trabalho de Conclusão do Curso de Inteligência Artificial e Aprendizado de Máquina da PUC-MG.  \n",
    "O trabalho tem como objetivo criar um algoritmo de recomendação de produtos de skincare a partir da base de dados da Sephora Malásia.\n",
    "Este notebook contempla a análise inicial e exploratória dos dados coletados e desenvolvimento do algoritmo.    \n",
    "Todas as informações, produtos e imagens coletados foram obtidos do site [Sephora Malaysia](https://www.sephora.my/).  "
   ]
  },
  {
   "cell_type": "markdown",
   "metadata": {},
   "source": [
    "# 1. Importação das Bibliotecas"
   ]
  },
  {
   "cell_type": "code",
   "execution_count": 1,
   "metadata": {},
   "outputs": [],
   "source": [
    "import pandas as pd\n",
    "import numpy as np\n",
    "import plotly.express as px\n",
    "import re"
   ]
  },
  {
   "cell_type": "markdown",
   "metadata": {},
   "source": [
    "# 2. Processamento/Tratamento dos Dados"
   ]
  },
  {
   "cell_type": "code",
   "execution_count": 2,
   "metadata": {},
   "outputs": [
    {
     "data": {
      "text/html": [
       "<div>\n",
       "<style scoped>\n",
       "    .dataframe tbody tr th:only-of-type {\n",
       "        vertical-align: middle;\n",
       "    }\n",
       "\n",
       "    .dataframe tbody tr th {\n",
       "        vertical-align: top;\n",
       "    }\n",
       "\n",
       "    .dataframe thead th {\n",
       "        text-align: right;\n",
       "    }\n",
       "</style>\n",
       "<table border=\"1\" class=\"dataframe\">\n",
       "  <thead>\n",
       "    <tr style=\"text-align: right;\">\n",
       "      <th></th>\n",
       "      <th>Brand</th>\n",
       "      <th>Name</th>\n",
       "      <th>Rating</th>\n",
       "      <th>Price</th>\n",
       "      <th>Product URL</th>\n",
       "      <th>Image URL</th>\n",
       "      <th>Category</th>\n",
       "      <th>Skin Type</th>\n",
       "      <th>Skin Concerns</th>\n",
       "      <th>Formulation</th>\n",
       "      <th>Skincare By Age</th>\n",
       "      <th>Ingredients</th>\n",
       "      <th>Function</th>\n",
       "      <th>Finish</th>\n",
       "      <th>Product Type</th>\n",
       "      <th>Benefits</th>\n",
       "      <th>Hair Type</th>\n",
       "      <th>Hair Concerns</th>\n",
       "      <th>Coverage</th>\n",
       "    </tr>\n",
       "  </thead>\n",
       "  <tbody>\n",
       "    <tr>\n",
       "      <th>1188</th>\n",
       "      <td>DR.JART+</td>\n",
       "      <td>Shake &amp; Shot - Luminous Shot Shaking Rubber Ma...</td>\n",
       "      <td>4.2</td>\n",
       "      <td>RM40.00</td>\n",
       "      <td>https://www.sephora.my/products/dr-dot-jart-pl...</td>\n",
       "      <td>https://image-optimizer-reg.production.sephora...</td>\n",
       "      <td>Masks And Treatments</td>\n",
       "      <td>Combination, Dry, Normal, Oily</td>\n",
       "      <td>Dullness, Uneven Skin Tone</td>\n",
       "      <td>Cream, Sheet</td>\n",
       "      <td>20s, 30s, 40s, 50+, Under 20</td>\n",
       "      <td>NaN</td>\n",
       "      <td>Face</td>\n",
       "      <td>NaN</td>\n",
       "      <td>NaN</td>\n",
       "      <td>NaN</td>\n",
       "      <td>NaN</td>\n",
       "      <td>NaN</td>\n",
       "      <td>NaN</td>\n",
       "    </tr>\n",
       "    <tr>\n",
       "      <th>1396</th>\n",
       "      <td>FOR BELOVED GIRL</td>\n",
       "      <td>Flawless Brightening Mineral Cloud-Silk Mask</td>\n",
       "      <td>4.4</td>\n",
       "      <td>RM60.00</td>\n",
       "      <td>https://www.sephora.my/products/for-beloved-gi...</td>\n",
       "      <td>https://image-optimizer-reg.production.sephora...</td>\n",
       "      <td>Masks And Treatments</td>\n",
       "      <td>Combination, Dry, Normal, Oily</td>\n",
       "      <td>Dryness, Dullness, Uneven Skin Tone</td>\n",
       "      <td>Sheet</td>\n",
       "      <td>20s, 30s, 40s, 50+, Under 20</td>\n",
       "      <td>Aqua, Glycerin, Propylene Glycol, Tranexamic A...</td>\n",
       "      <td>Face</td>\n",
       "      <td>NaN</td>\n",
       "      <td>NaN</td>\n",
       "      <td>NaN</td>\n",
       "      <td>NaN</td>\n",
       "      <td>NaN</td>\n",
       "      <td>NaN</td>\n",
       "    </tr>\n",
       "  </tbody>\n",
       "</table>\n",
       "</div>"
      ],
      "text/plain": [
       "                 Brand                                               Name  \\\n",
       "1188          DR.JART+  Shake & Shot - Luminous Shot Shaking Rubber Ma...   \n",
       "1396  FOR BELOVED GIRL       Flawless Brightening Mineral Cloud-Silk Mask   \n",
       "\n",
       "      Rating    Price                                        Product URL  \\\n",
       "1188     4.2  RM40.00  https://www.sephora.my/products/dr-dot-jart-pl...   \n",
       "1396     4.4  RM60.00  https://www.sephora.my/products/for-beloved-gi...   \n",
       "\n",
       "                                              Image URL              Category  \\\n",
       "1188  https://image-optimizer-reg.production.sephora...  Masks And Treatments   \n",
       "1396  https://image-optimizer-reg.production.sephora...  Masks And Treatments   \n",
       "\n",
       "                           Skin Type                        Skin Concerns  \\\n",
       "1188  Combination, Dry, Normal, Oily           Dullness, Uneven Skin Tone   \n",
       "1396  Combination, Dry, Normal, Oily  Dryness, Dullness, Uneven Skin Tone   \n",
       "\n",
       "       Formulation               Skincare By Age  \\\n",
       "1188  Cream, Sheet  20s, 30s, 40s, 50+, Under 20   \n",
       "1396         Sheet  20s, 30s, 40s, 50+, Under 20   \n",
       "\n",
       "                                            Ingredients Function Finish  \\\n",
       "1188                                                NaN     Face    NaN   \n",
       "1396  Aqua, Glycerin, Propylene Glycol, Tranexamic A...     Face    NaN   \n",
       "\n",
       "     Product Type Benefits Hair Type Hair Concerns Coverage  \n",
       "1188          NaN      NaN       NaN           NaN      NaN  \n",
       "1396          NaN      NaN       NaN           NaN      NaN  "
      ]
     },
     "execution_count": 2,
     "metadata": {},
     "output_type": "execute_result"
    }
   ],
   "source": [
    "# Leitura do banco de dados gerado\n",
    "df = pd.read_csv(\"../02 Datasets obtidos/Products Info.csv\", sep='|')\n",
    "df.sample(2)"
   ]
  },
  {
   "cell_type": "code",
   "execution_count": 3,
   "metadata": {},
   "outputs": [
    {
     "name": "stdout",
     "output_type": "stream",
     "text": [
      "<class 'pandas.core.frame.DataFrame'>\n",
      "RangeIndex: 1963 entries, 0 to 1962\n",
      "Data columns (total 19 columns):\n",
      " #   Column           Non-Null Count  Dtype  \n",
      "---  ------           --------------  -----  \n",
      " 0   Brand            1963 non-null   object \n",
      " 1   Name             1963 non-null   object \n",
      " 2   Rating           1751 non-null   float64\n",
      " 3   Price            1963 non-null   object \n",
      " 4   Product URL      1963 non-null   object \n",
      " 5   Image URL        1963 non-null   object \n",
      " 6   Category         1963 non-null   object \n",
      " 7   Skin Type        1867 non-null   object \n",
      " 8   Skin Concerns    1907 non-null   object \n",
      " 9   Formulation      1601 non-null   object \n",
      " 10  Skincare By Age  1938 non-null   object \n",
      " 11  Ingredients      1574 non-null   object \n",
      " 12  Function         684 non-null    object \n",
      " 13  Finish           52 non-null     object \n",
      " 14  Product Type     13 non-null     object \n",
      " 15  Benefits         112 non-null    object \n",
      " 16  Hair Type        2 non-null      object \n",
      " 17  Hair Concerns    2 non-null      object \n",
      " 18  Coverage         2 non-null      object \n",
      "dtypes: float64(1), object(18)\n",
      "memory usage: 291.5+ KB\n"
     ]
    }
   ],
   "source": [
    "df.info()"
   ]
  },
  {
   "cell_type": "code",
   "execution_count": 5,
   "metadata": {},
   "outputs": [
    {
     "ename": "ValueError",
     "evalue": "Mime type rendering requires nbformat>=4.2.0 but it is not installed",
     "output_type": "error",
     "traceback": [
      "\u001b[1;31m---------------------------------------------------------------------------\u001b[0m",
      "\u001b[1;31mValueError\u001b[0m                                Traceback (most recent call last)",
      "\u001b[1;32mc:\\Users\\lucas\\OneDrive\\01 Lucas\\Pós Graduação - AI & ML - PUC\\02. TCC\\Algoritmo\\03 Notebook e datasets gerados\\Algoritmo de Recomendação.ipynb Cell 8'\u001b[0m in \u001b[0;36m<cell line: 9>\u001b[1;34m()\u001b[0m\n\u001b[0;32m      <a href='vscode-notebook-cell:/c%3A/Users/lucas/OneDrive/01%20Lucas/P%C3%B3s%20Gradua%C3%A7%C3%A3o%20-%20AI%20%26%20ML%20-%20PUC/02.%20TCC/Algoritmo/03%20Notebook%20e%20datasets%20gerados/Algoritmo%20de%20Recomenda%C3%A7%C3%A3o.ipynb#ch0000007?line=1'>2</a>\u001b[0m fig \u001b[39m=\u001b[39m px\u001b[39m.\u001b[39mbar(df\u001b[39m.\u001b[39maggregate(\u001b[39m'\u001b[39m\u001b[39mcount\u001b[39m\u001b[39m'\u001b[39m),\n\u001b[0;32m      <a href='vscode-notebook-cell:/c%3A/Users/lucas/OneDrive/01%20Lucas/P%C3%B3s%20Gradua%C3%A7%C3%A3o%20-%20AI%20%26%20ML%20-%20PUC/02.%20TCC/Algoritmo/03%20Notebook%20e%20datasets%20gerados/Algoritmo%20de%20Recomenda%C3%A7%C3%A3o.ipynb#ch0000007?line=2'>3</a>\u001b[0m        title\u001b[39m=\u001b[39m\u001b[39m\"\u001b[39m\u001b[39mQuantidade de valores não-nulos por coluna\u001b[39m\u001b[39m\"\u001b[39m,\n\u001b[0;32m      <a href='vscode-notebook-cell:/c%3A/Users/lucas/OneDrive/01%20Lucas/P%C3%B3s%20Gradua%C3%A7%C3%A3o%20-%20AI%20%26%20ML%20-%20PUC/02.%20TCC/Algoritmo/03%20Notebook%20e%20datasets%20gerados/Algoritmo%20de%20Recomenda%C3%A7%C3%A3o.ipynb#ch0000007?line=3'>4</a>\u001b[0m        labels\u001b[39m=\u001b[39m{\u001b[39m'\u001b[39m\u001b[39mvalue\u001b[39m\u001b[39m'\u001b[39m:\u001b[39m'\u001b[39m\u001b[39mQtd. de valores\u001b[39m\u001b[39m'\u001b[39m, \u001b[39m'\u001b[39m\u001b[39mindex\u001b[39m\u001b[39m'\u001b[39m:\u001b[39m'\u001b[39m\u001b[39mColuna\u001b[39m\u001b[39m'\u001b[39m, \u001b[39m'\u001b[39m\u001b[39mvariable\u001b[39m\u001b[39m'\u001b[39m:\u001b[39m'\u001b[39m\u001b[39mContagem\u001b[39m\u001b[39m'\u001b[39m},\n\u001b[0;32m      <a href='vscode-notebook-cell:/c%3A/Users/lucas/OneDrive/01%20Lucas/P%C3%B3s%20Gradua%C3%A7%C3%A3o%20-%20AI%20%26%20ML%20-%20PUC/02.%20TCC/Algoritmo/03%20Notebook%20e%20datasets%20gerados/Algoritmo%20de%20Recomenda%C3%A7%C3%A3o.ipynb#ch0000007?line=4'>5</a>\u001b[0m        width\u001b[39m=\u001b[39m\u001b[39m1100\u001b[39m,\n\u001b[0;32m      <a href='vscode-notebook-cell:/c%3A/Users/lucas/OneDrive/01%20Lucas/P%C3%B3s%20Gradua%C3%A7%C3%A3o%20-%20AI%20%26%20ML%20-%20PUC/02.%20TCC/Algoritmo/03%20Notebook%20e%20datasets%20gerados/Algoritmo%20de%20Recomenda%C3%A7%C3%A3o.ipynb#ch0000007?line=5'>6</a>\u001b[0m        text_auto\u001b[39m=\u001b[39m\u001b[39mTrue\u001b[39;00m)\n\u001b[0;32m      <a href='vscode-notebook-cell:/c%3A/Users/lucas/OneDrive/01%20Lucas/P%C3%B3s%20Gradua%C3%A7%C3%A3o%20-%20AI%20%26%20ML%20-%20PUC/02.%20TCC/Algoritmo/03%20Notebook%20e%20datasets%20gerados/Algoritmo%20de%20Recomenda%C3%A7%C3%A3o.ipynb#ch0000007?line=7'>8</a>\u001b[0m fig\u001b[39m.\u001b[39mupdate_layout(showlegend\u001b[39m=\u001b[39m\u001b[39mFalse\u001b[39;00m)\n\u001b[1;32m----> <a href='vscode-notebook-cell:/c%3A/Users/lucas/OneDrive/01%20Lucas/P%C3%B3s%20Gradua%C3%A7%C3%A3o%20-%20AI%20%26%20ML%20-%20PUC/02.%20TCC/Algoritmo/03%20Notebook%20e%20datasets%20gerados/Algoritmo%20de%20Recomenda%C3%A7%C3%A3o.ipynb#ch0000007?line=8'>9</a>\u001b[0m fig\u001b[39m.\u001b[39;49mshow()\n",
      "File \u001b[1;32m~\\AppData\\Local\\Programs\\Python\\Python310\\lib\\site-packages\\plotly\\basedatatypes.py:3400\u001b[0m, in \u001b[0;36mBaseFigure.show\u001b[1;34m(self, *args, **kwargs)\u001b[0m\n\u001b[0;32m   <a href='file:///~/AppData/Local/Programs/Python/Python310/lib/site-packages/plotly/basedatatypes.py?line=3366'>3367</a>\u001b[0m \u001b[39m\"\"\"\u001b[39;00m\n\u001b[0;32m   <a href='file:///~/AppData/Local/Programs/Python/Python310/lib/site-packages/plotly/basedatatypes.py?line=3367'>3368</a>\u001b[0m \u001b[39mShow a figure using either the default renderer(s) or the renderer(s)\u001b[39;00m\n\u001b[0;32m   <a href='file:///~/AppData/Local/Programs/Python/Python310/lib/site-packages/plotly/basedatatypes.py?line=3368'>3369</a>\u001b[0m \u001b[39mspecified by the renderer argument\u001b[39;00m\n\u001b[1;32m   (...)\u001b[0m\n\u001b[0;32m   <a href='file:///~/AppData/Local/Programs/Python/Python310/lib/site-packages/plotly/basedatatypes.py?line=3395'>3396</a>\u001b[0m \u001b[39mNone\u001b[39;00m\n\u001b[0;32m   <a href='file:///~/AppData/Local/Programs/Python/Python310/lib/site-packages/plotly/basedatatypes.py?line=3396'>3397</a>\u001b[0m \u001b[39m\"\"\"\u001b[39;00m\n\u001b[0;32m   <a href='file:///~/AppData/Local/Programs/Python/Python310/lib/site-packages/plotly/basedatatypes.py?line=3397'>3398</a>\u001b[0m \u001b[39mimport\u001b[39;00m \u001b[39mplotly\u001b[39;00m\u001b[39m.\u001b[39;00m\u001b[39mio\u001b[39;00m \u001b[39mas\u001b[39;00m \u001b[39mpio\u001b[39;00m\n\u001b[1;32m-> <a href='file:///~/AppData/Local/Programs/Python/Python310/lib/site-packages/plotly/basedatatypes.py?line=3399'>3400</a>\u001b[0m \u001b[39mreturn\u001b[39;00m pio\u001b[39m.\u001b[39mshow(\u001b[39mself\u001b[39m, \u001b[39m*\u001b[39margs, \u001b[39m*\u001b[39m\u001b[39m*\u001b[39mkwargs)\n",
      "File \u001b[1;32m~\\AppData\\Local\\Programs\\Python\\Python310\\lib\\site-packages\\plotly\\io\\_renderers.py:397\u001b[0m, in \u001b[0;36mshow\u001b[1;34m(fig, renderer, validate, **kwargs)\u001b[0m\n\u001b[0;32m    <a href='file:///~/AppData/Local/Programs/Python/Python310/lib/site-packages/plotly/io/_renderers.py?line=391'>392</a>\u001b[0m         \u001b[39mraise\u001b[39;00m \u001b[39mValueError\u001b[39;00m(\n\u001b[0;32m    <a href='file:///~/AppData/Local/Programs/Python/Python310/lib/site-packages/plotly/io/_renderers.py?line=392'>393</a>\u001b[0m             \u001b[39m\"\u001b[39m\u001b[39mMime type rendering requires ipython but it is not installed\u001b[39m\u001b[39m\"\u001b[39m\n\u001b[0;32m    <a href='file:///~/AppData/Local/Programs/Python/Python310/lib/site-packages/plotly/io/_renderers.py?line=393'>394</a>\u001b[0m         )\n\u001b[0;32m    <a href='file:///~/AppData/Local/Programs/Python/Python310/lib/site-packages/plotly/io/_renderers.py?line=395'>396</a>\u001b[0m     \u001b[39mif\u001b[39;00m \u001b[39mnot\u001b[39;00m nbformat \u001b[39mor\u001b[39;00m LooseVersion(nbformat\u001b[39m.\u001b[39m__version__) \u001b[39m<\u001b[39m LooseVersion(\u001b[39m\"\u001b[39m\u001b[39m4.2.0\u001b[39m\u001b[39m\"\u001b[39m):\n\u001b[1;32m--> <a href='file:///~/AppData/Local/Programs/Python/Python310/lib/site-packages/plotly/io/_renderers.py?line=396'>397</a>\u001b[0m         \u001b[39mraise\u001b[39;00m \u001b[39mValueError\u001b[39;00m(\n\u001b[0;32m    <a href='file:///~/AppData/Local/Programs/Python/Python310/lib/site-packages/plotly/io/_renderers.py?line=397'>398</a>\u001b[0m             \u001b[39m\"\u001b[39m\u001b[39mMime type rendering requires nbformat>=4.2.0 but it is not installed\u001b[39m\u001b[39m\"\u001b[39m\n\u001b[0;32m    <a href='file:///~/AppData/Local/Programs/Python/Python310/lib/site-packages/plotly/io/_renderers.py?line=398'>399</a>\u001b[0m         )\n\u001b[0;32m    <a href='file:///~/AppData/Local/Programs/Python/Python310/lib/site-packages/plotly/io/_renderers.py?line=400'>401</a>\u001b[0m     ipython_display\u001b[39m.\u001b[39mdisplay(bundle, raw\u001b[39m=\u001b[39m\u001b[39mTrue\u001b[39;00m)\n\u001b[0;32m    <a href='file:///~/AppData/Local/Programs/Python/Python310/lib/site-packages/plotly/io/_renderers.py?line=402'>403</a>\u001b[0m \u001b[39m# external renderers\u001b[39;00m\n",
      "\u001b[1;31mValueError\u001b[0m: Mime type rendering requires nbformat>=4.2.0 but it is not installed"
     ]
    }
   ],
   "source": [
    "# Mostra valores não-nulos por coluna\n",
    "fig = px.bar(df.aggregate('count'),\n",
    "       title=\"Quantidade de valores não-nulos por coluna\",\n",
    "       labels={'value':'Qtd. de valores', 'index':'Coluna', 'variable':'Contagem'},\n",
    "       width=1100,\n",
    "       text_auto=True)\n",
    "\n",
    "fig.update_layout(showlegend=False)\n",
    "fig.show()"
   ]
  },
  {
   "cell_type": "code",
   "execution_count": null,
   "metadata": {},
   "outputs": [],
   "source": []
  }
 ],
 "metadata": {
  "interpreter": {
   "hash": "2c1979687e94a962c790cd254b0e68a50830eb6ef64c271d6b5df4cb2cf69b1a"
  },
  "kernelspec": {
   "display_name": "Python 3.8.10 64-bit",
   "language": "python",
   "name": "python3"
  },
  "language_info": {
   "codemirror_mode": {
    "name": "ipython",
    "version": 3
   },
   "file_extension": ".py",
   "mimetype": "text/x-python",
   "name": "python",
   "nbconvert_exporter": "python",
   "pygments_lexer": "ipython3",
   "version": "3.10.2"
  },
  "orig_nbformat": 4
 },
 "nbformat": 4,
 "nbformat_minor": 2
}
