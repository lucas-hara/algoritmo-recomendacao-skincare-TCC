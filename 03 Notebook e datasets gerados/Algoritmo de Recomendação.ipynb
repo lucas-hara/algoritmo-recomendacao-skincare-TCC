{
 "cells": [
  {
   "cell_type": "markdown",
   "metadata": {},
   "source": [
    "# **TCC - Recomendação de Cosméticos para Tratamento de Pele**\n",
    "## Desenvolvido por: Lucas Rafael Hara Motta\n",
    "## Especialização em Inteligência Artificial e Machine Aprendizado de Máquina\n",
    "## PUC - MG"
   ]
  },
  {
   "cell_type": "markdown",
   "metadata": {},
   "source": [
    "Este algoritmo foi desenvolvido como parte do Trabalho de Conclusão do Curso de Inteligência Artificial e Aprendizado de Máquina da PUC-MG.  \n",
    "O trabalho tem como objetivo criar um algoritmo de recomendação de produtos de skincare a partir da base de dados da Sephora Malásia.\n",
    "Este notebook contempla a análise inicial e exploratória dos dados coletados e desenvolvimento do algoritmo.    \n",
    "Todas as informações, produtos e imagens coletados foram obtidos do site [Sephora Malaysia](https://www.sephora.my/).  "
   ]
  },
  {
   "cell_type": "markdown",
   "metadata": {},
   "source": [
    "# 1. Importação das Bibliotecas"
   ]
  },
  {
   "cell_type": "code",
   "execution_count": 2,
   "metadata": {},
   "outputs": [],
   "source": [
    "import pandas as pd\n",
    "import numpy as np\n",
    "import plotly.express as px\n",
    "import re"
   ]
  },
  {
   "cell_type": "markdown",
   "metadata": {},
   "source": [
    "# 2. Processamento/Tratamento dos Dados"
   ]
  },
  {
   "cell_type": "code",
   "execution_count": 3,
   "metadata": {},
   "outputs": [
    {
     "data": {
      "text/html": [
       "<div>\n",
       "<style scoped>\n",
       "    .dataframe tbody tr th:only-of-type {\n",
       "        vertical-align: middle;\n",
       "    }\n",
       "\n",
       "    .dataframe tbody tr th {\n",
       "        vertical-align: top;\n",
       "    }\n",
       "\n",
       "    .dataframe thead th {\n",
       "        text-align: right;\n",
       "    }\n",
       "</style>\n",
       "<table border=\"1\" class=\"dataframe\">\n",
       "  <thead>\n",
       "    <tr style=\"text-align: right;\">\n",
       "      <th></th>\n",
       "      <th>Brand</th>\n",
       "      <th>Name</th>\n",
       "      <th>Rating</th>\n",
       "      <th>Price</th>\n",
       "      <th>Product URL</th>\n",
       "      <th>Image URL</th>\n",
       "      <th>Category</th>\n",
       "      <th>Skin Type</th>\n",
       "      <th>Skin Concerns</th>\n",
       "      <th>Formulation</th>\n",
       "      <th>Skincare By Age</th>\n",
       "      <th>Ingredients</th>\n",
       "      <th>Function</th>\n",
       "      <th>Finish</th>\n",
       "      <th>Product Type</th>\n",
       "      <th>Benefits</th>\n",
       "      <th>Hair Type</th>\n",
       "      <th>Hair Concerns</th>\n",
       "      <th>Coverage</th>\n",
       "    </tr>\n",
       "  </thead>\n",
       "  <tbody>\n",
       "    <tr>\n",
       "      <th>910</th>\n",
       "      <td>PHILOSOPHY</td>\n",
       "      <td>Purity Made Simple Ultra-Light Moisturizer</td>\n",
       "      <td>4.4</td>\n",
       "      <td>RM133.00</td>\n",
       "      <td>https://www.sephora.my/products/philosophy-pur...</td>\n",
       "      <td>https://image-optimizer-reg.production.sephora...</td>\n",
       "      <td>Moisturiser</td>\n",
       "      <td>Combination, Dry, Normal, Oily, Sensitive</td>\n",
       "      <td>Ageing, Dryness, Visible Pores</td>\n",
       "      <td>Cream</td>\n",
       "      <td>20s, 30s, 40s, 50+</td>\n",
       "      <td>Aqua/Water/Eau, Cyclopentasiloxane, Bis-Peg-18...</td>\n",
       "      <td>NaN</td>\n",
       "      <td>NaN</td>\n",
       "      <td>NaN</td>\n",
       "      <td>NaN</td>\n",
       "      <td>NaN</td>\n",
       "      <td>NaN</td>\n",
       "      <td>NaN</td>\n",
       "    </tr>\n",
       "    <tr>\n",
       "      <th>1217</th>\n",
       "      <td>PETER THOMAS ROTH</td>\n",
       "      <td>Potent-C Power Eye Cream • 15ml</td>\n",
       "      <td>4.1</td>\n",
       "      <td>RM275.00</td>\n",
       "      <td>https://www.sephora.my/products/peter-thomas-r...</td>\n",
       "      <td>https://image-optimizer-reg.production.sephora...</td>\n",
       "      <td>Masks And Treatments</td>\n",
       "      <td>Combination, Dry, Normal, Oily, Sensitive</td>\n",
       "      <td>Ageing, Dark Circles, Fine Lines &amp; Wrinkles</td>\n",
       "      <td>Cream</td>\n",
       "      <td>20s, 30s, 40s, 50+</td>\n",
       "      <td>Water/Aqua/Eau, Butylene Glycol, Tetrahexyldec...</td>\n",
       "      <td>Moisturise, Treatment</td>\n",
       "      <td>NaN</td>\n",
       "      <td>NaN</td>\n",
       "      <td>NaN</td>\n",
       "      <td>NaN</td>\n",
       "      <td>NaN</td>\n",
       "      <td>NaN</td>\n",
       "    </tr>\n",
       "  </tbody>\n",
       "</table>\n",
       "</div>"
      ],
      "text/plain": [
       "                  Brand                                        Name  Rating  \\\n",
       "910          PHILOSOPHY  Purity Made Simple Ultra-Light Moisturizer     4.4   \n",
       "1217  PETER THOMAS ROTH             Potent-C Power Eye Cream • 15ml     4.1   \n",
       "\n",
       "         Price                                        Product URL  \\\n",
       "910   RM133.00  https://www.sephora.my/products/philosophy-pur...   \n",
       "1217  RM275.00  https://www.sephora.my/products/peter-thomas-r...   \n",
       "\n",
       "                                              Image URL              Category  \\\n",
       "910   https://image-optimizer-reg.production.sephora...           Moisturiser   \n",
       "1217  https://image-optimizer-reg.production.sephora...  Masks And Treatments   \n",
       "\n",
       "                                      Skin Type  \\\n",
       "910   Combination, Dry, Normal, Oily, Sensitive   \n",
       "1217  Combination, Dry, Normal, Oily, Sensitive   \n",
       "\n",
       "                                    Skin Concerns Formulation  \\\n",
       "910                Ageing, Dryness, Visible Pores       Cream   \n",
       "1217  Ageing, Dark Circles, Fine Lines & Wrinkles       Cream   \n",
       "\n",
       "         Skincare By Age                                        Ingredients  \\\n",
       "910   20s, 30s, 40s, 50+  Aqua/Water/Eau, Cyclopentasiloxane, Bis-Peg-18...   \n",
       "1217  20s, 30s, 40s, 50+  Water/Aqua/Eau, Butylene Glycol, Tetrahexyldec...   \n",
       "\n",
       "                   Function Finish Product Type Benefits Hair Type  \\\n",
       "910                     NaN    NaN          NaN      NaN       NaN   \n",
       "1217  Moisturise, Treatment    NaN          NaN      NaN       NaN   \n",
       "\n",
       "     Hair Concerns Coverage  \n",
       "910            NaN      NaN  \n",
       "1217           NaN      NaN  "
      ]
     },
     "execution_count": 3,
     "metadata": {},
     "output_type": "execute_result"
    }
   ],
   "source": [
    "# Leitura do banco de dados gerado\n",
    "df = pd.read_csv(\"../02 Datasets obtidos/Products Info.csv\", sep='|')\n",
    "df.sample(2)"
   ]
  },
  {
   "cell_type": "code",
   "execution_count": 4,
   "metadata": {},
   "outputs": [
    {
     "name": "stdout",
     "output_type": "stream",
     "text": [
      "<class 'pandas.core.frame.DataFrame'>\n",
      "RangeIndex: 1963 entries, 0 to 1962\n",
      "Data columns (total 19 columns):\n",
      " #   Column           Non-Null Count  Dtype  \n",
      "---  ------           --------------  -----  \n",
      " 0   Brand            1963 non-null   object \n",
      " 1   Name             1963 non-null   object \n",
      " 2   Rating           1751 non-null   float64\n",
      " 3   Price            1963 non-null   object \n",
      " 4   Product URL      1963 non-null   object \n",
      " 5   Image URL        1963 non-null   object \n",
      " 6   Category         1963 non-null   object \n",
      " 7   Skin Type        1867 non-null   object \n",
      " 8   Skin Concerns    1907 non-null   object \n",
      " 9   Formulation      1601 non-null   object \n",
      " 10  Skincare By Age  1938 non-null   object \n",
      " 11  Ingredients      1574 non-null   object \n",
      " 12  Function         684 non-null    object \n",
      " 13  Finish           52 non-null     object \n",
      " 14  Product Type     13 non-null     object \n",
      " 15  Benefits         112 non-null    object \n",
      " 16  Hair Type        2 non-null      object \n",
      " 17  Hair Concerns    2 non-null      object \n",
      " 18  Coverage         2 non-null      object \n",
      "dtypes: float64(1), object(18)\n",
      "memory usage: 291.5+ KB\n"
     ]
    }
   ],
   "source": [
    "df.info()"
   ]
  },
  {
   "cell_type": "code",
   "execution_count": null,
   "metadata": {},
   "outputs": [],
   "source": []
  }
 ],
 "metadata": {
  "interpreter": {
   "hash": "2c1979687e94a962c790cd254b0e68a50830eb6ef64c271d6b5df4cb2cf69b1a"
  },
  "kernelspec": {
   "display_name": "Python 3.8.10 64-bit",
   "language": "python",
   "name": "python3"
  },
  "language_info": {
   "codemirror_mode": {
    "name": "ipython",
    "version": 3
   },
   "file_extension": ".py",
   "mimetype": "text/x-python",
   "name": "python",
   "nbconvert_exporter": "python",
   "pygments_lexer": "ipython3",
   "version": "3.8.10"
  },
  "orig_nbformat": 4
 },
 "nbformat": 4,
 "nbformat_minor": 2
}
